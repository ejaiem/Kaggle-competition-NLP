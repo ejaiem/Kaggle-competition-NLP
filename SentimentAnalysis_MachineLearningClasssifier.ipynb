{
 "cells": [
  {
   "cell_type": "markdown",
   "id": "geographic-panel",
   "metadata": {},
   "source": [
    "# Introduction\n",
    "\n",
    "In this notebook, we focus on a common text classification task, sentiment analysis.\n",
    "which is challenging and far from being solved since languages are highly complex. It refers to analyzing an opinion or feelings about something using data like text for example. \n",
    "\n",
    "Sentiment analysis task is so important nowadays as it can help companies in their decision-making process. For instance, if public sentiment towards a product is not so good, a company may try to modify the product or stop the production in order to avoid any losses and vice versa; which explains the apparent increase of researches in this fields. \n",
    "\n",
    "This project is so about to extract sentiment, namely assign a category to an entire text or document. \n",
    "The most common verion of the sentiment analysis is a binary classification task where it is a question to classify tweets into two classes : positive and negative. However, in this project, we will consider the multi-classification task with three classes : neutral, positive and negative.  \n",
    "\n"
   ]
  },
  {
   "cell_type": "markdown",
   "id": "micro-empty",
   "metadata": {},
   "source": [
    "We aim so to build a classification model to accurately classify text documents into a predefined category. The dataset consists of a collection of tweets in the form of text. Each row contains the text of a tweet and a sentiment label. A word or phrase drawn from the tweet (selected_text) are provided which encapsulates the provided sentiment. The original dataset is available here https://www.kaggle.com/c/tweet-sentiment-extraction/overview . \n",
    "\n",
    "In order to achieve this goal, I performed the following steps:\n",
    "\n",
    "- Get/Load the dataset\n",
    "\n",
    "- Explore and analyze the data\n",
    "\n",
    "- Text preprocessing\n",
    "\n",
    "- Build, train and evaluate the model"
   ]
  },
  {
   "cell_type": "markdown",
   "id": "independent-polls",
   "metadata": {},
   "source": [
    "# Import Required librairies"
   ]
  },
  {
   "cell_type": "code",
   "execution_count": 1,
   "id": "julian-calibration",
   "metadata": {},
   "outputs": [],
   "source": [
    "import pandas as pd\n",
    "import numpy as np\n",
    "import seaborn as sns\n",
    "import re\n",
    "import string\n",
    "import matplotlib.pyplot as plt\n",
    "\n",
    "from sklearn.model_selection import train_test_split\n",
    "\n",
    "from sklearn.feature_extraction.text import TfidfVectorizer\n",
    "from sklearn.feature_extraction.text import CountVectorizer\n",
    "from sklearn.naive_bayes import MultinomialNB\n",
    "from sklearn.svm import LinearSVC\n",
    "\n",
    "from nltk.corpus import stopwords\n",
    "\n",
    "from sklearn import metrics\n",
    "from sklearn.metrics import confusion_matrix\n",
    "from sklearn.metrics import classification_report\n"
   ]
  },
  {
   "cell_type": "markdown",
   "id": "continuing-macedonia",
   "metadata": {},
   "source": [
    "# Get/Load the dataset\n",
    "Given tweets, the task is to predict whether a tweet contains positive, negative, or neutral sentiment. This is a typical supervised learning task where given a text string, we have to categorize the text string into predefined categories.\n"
   ]
  },
  {
   "cell_type": "code",
   "execution_count": 2,
   "id": "taken-spanking",
   "metadata": {},
   "outputs": [],
   "source": [
    "# Read csv\n",
    "df =  pd.read_csv('train.csv')"
   ]
  },
  {
   "cell_type": "code",
   "execution_count": 3,
   "id": "fatal-settle",
   "metadata": {
    "scrolled": true
   },
   "outputs": [
    {
     "data": {
      "text/html": [
       "<div>\n",
       "<style scoped>\n",
       "    .dataframe tbody tr th:only-of-type {\n",
       "        vertical-align: middle;\n",
       "    }\n",
       "\n",
       "    .dataframe tbody tr th {\n",
       "        vertical-align: top;\n",
       "    }\n",
       "\n",
       "    .dataframe thead th {\n",
       "        text-align: right;\n",
       "    }\n",
       "</style>\n",
       "<table border=\"1\" class=\"dataframe\">\n",
       "  <thead>\n",
       "    <tr style=\"text-align: right;\">\n",
       "      <th></th>\n",
       "      <th>textID</th>\n",
       "      <th>text</th>\n",
       "      <th>selected_text</th>\n",
       "      <th>sentiment</th>\n",
       "    </tr>\n",
       "  </thead>\n",
       "  <tbody>\n",
       "    <tr>\n",
       "      <th>0</th>\n",
       "      <td>cb774db0d1</td>\n",
       "      <td>I`d have responded, if I were going</td>\n",
       "      <td>I`d have responded, if I were going</td>\n",
       "      <td>neutral</td>\n",
       "    </tr>\n",
       "    <tr>\n",
       "      <th>1</th>\n",
       "      <td>549e992a42</td>\n",
       "      <td>Sooo SAD I will miss you here in San Diego!!!</td>\n",
       "      <td>Sooo SAD</td>\n",
       "      <td>negative</td>\n",
       "    </tr>\n",
       "    <tr>\n",
       "      <th>2</th>\n",
       "      <td>088c60f138</td>\n",
       "      <td>my boss is bullying me...</td>\n",
       "      <td>bullying me</td>\n",
       "      <td>negative</td>\n",
       "    </tr>\n",
       "    <tr>\n",
       "      <th>3</th>\n",
       "      <td>9642c003ef</td>\n",
       "      <td>what interview! leave me alone</td>\n",
       "      <td>leave me alone</td>\n",
       "      <td>negative</td>\n",
       "    </tr>\n",
       "    <tr>\n",
       "      <th>4</th>\n",
       "      <td>358bd9e861</td>\n",
       "      <td>Sons of ****, why couldn`t they put them on t...</td>\n",
       "      <td>Sons of ****,</td>\n",
       "      <td>negative</td>\n",
       "    </tr>\n",
       "  </tbody>\n",
       "</table>\n",
       "</div>"
      ],
      "text/plain": [
       "       textID                                               text  \\\n",
       "0  cb774db0d1                I`d have responded, if I were going   \n",
       "1  549e992a42      Sooo SAD I will miss you here in San Diego!!!   \n",
       "2  088c60f138                          my boss is bullying me...   \n",
       "3  9642c003ef                     what interview! leave me alone   \n",
       "4  358bd9e861   Sons of ****, why couldn`t they put them on t...   \n",
       "\n",
       "                         selected_text sentiment  \n",
       "0  I`d have responded, if I were going   neutral  \n",
       "1                             Sooo SAD  negative  \n",
       "2                          bullying me  negative  \n",
       "3                       leave me alone  negative  \n",
       "4                        Sons of ****,  negative  "
      ]
     },
     "execution_count": 3,
     "metadata": {},
     "output_type": "execute_result"
    }
   ],
   "source": [
    "# Take a look to the dataset\n",
    "df.head()"
   ]
  },
  {
   "cell_type": "markdown",
   "id": "hazardous-damages",
   "metadata": {},
   "source": [
    "For Natural Language Preprocessing tasks, it is so important to explore the data, namely the text in order to implement strategies of text preprocessing."
   ]
  },
  {
   "cell_type": "code",
   "execution_count": 4,
   "id": "elegant-registration",
   "metadata": {},
   "outputs": [
    {
     "name": "stdout",
     "output_type": "stream",
     "text": [
      " I would notice...\n",
      "\n",
      " Aye. Now I want cheesecake\n",
      "\n",
      " Yeah, mine said 'That`s a nice picture' & gave me the red x!  Hope you get it working soon!\n",
      "\n",
      "colds nearly gone, yayness!! greys anatomy on tonight . . . . . .double yay!\n",
      "\n",
      " Getting back online, now. Just shifting locations!\n",
      "\n"
     ]
    }
   ],
   "source": [
    "# Randomly show 5 text\n",
    "samples = [np.random.randint(len(df)) for i in range(5)]\n",
    "for index in samples:\n",
    "    print(df['text'][index])\n",
    "    print()"
   ]
  },
  {
   "cell_type": "markdown",
   "id": "chinese-oxide",
   "metadata": {},
   "source": [
    "We remark that for example http, number and punctuations are used which are not helpful to extract sentiment from text."
   ]
  },
  {
   "cell_type": "markdown",
   "id": "optional-procurement",
   "metadata": {},
   "source": [
    "# Explore and analyze the data\n",
    "Let's explore the dataset and try to extract any trends."
   ]
  },
  {
   "cell_type": "markdown",
   "id": "danish-boulder",
   "metadata": {},
   "source": [
    "Let's first extract the different sentiments."
   ]
  },
  {
   "cell_type": "code",
   "execution_count": 5,
   "id": "continued-cooking",
   "metadata": {},
   "outputs": [
    {
     "name": "stdout",
     "output_type": "stream",
     "text": [
      "There are 3 classes in this dataset which are ['neutral' 'negative' 'positive']\n"
     ]
    }
   ],
   "source": [
    "# Extract the different classes\n",
    "print(f'There are {len(df.sentiment.unique())} classes in this dataset which are {df.sentiment.unique()}')"
   ]
  },
  {
   "cell_type": "markdown",
   "id": "august-alpha",
   "metadata": {},
   "source": [
    "Let's see if the dataset is balanced or unbalanced. "
   ]
  },
  {
   "cell_type": "code",
   "execution_count": 6,
   "id": "ceramic-assault",
   "metadata": {},
   "outputs": [
    {
     "data": {
      "image/png": "[encoded data removed]",
      "text/plain": [
       "<Figure size 432x288 with 1 Axes>"
      ]
     },
     "metadata": {
      "needs_background": "light"
     },
     "output_type": "display_data"
    }
   ],
   "source": [
    "# Check for data imbalance\n",
    "sns.countplot(data= df, x= 'sentiment');"
   ]
  },
  {
   "cell_type": "code",
   "execution_count": 7,
   "id": "parallel-cannon",
   "metadata": {},
   "outputs": [
    {
     "data": {
      "text/plain": [
       "neutral     11118\n",
       "positive     8582\n",
       "negative     7781\n",
       "Name: sentiment, dtype: int64"
      ]
     },
     "execution_count": 7,
     "metadata": {},
     "output_type": "execute_result"
    }
   ],
   "source": [
    "# count the number of tweets for each classes\n",
    "df.sentiment.value_counts()"
   ]
  },
  {
   "cell_type": "code",
   "execution_count": 8,
   "id": "broadband-robertson",
   "metadata": {},
   "outputs": [
    {
     "data": {
      "text/plain": [
       "neutral     0.404570\n",
       "positive    0.312288\n",
       "negative    0.283141\n",
       "Name: sentiment, dtype: float64"
      ]
     },
     "execution_count": 8,
     "metadata": {},
     "output_type": "execute_result"
    }
   ],
   "source": [
    "# get pourcentage of neutral, positive and negative tweets\n",
    "df['sentiment'].value_counts(normalize=True)"
   ]
  },
  {
   "cell_type": "markdown",
   "id": "fresh-probability",
   "metadata": {},
   "source": [
    "One can remark that about (40%) the tweets are neutral, followed by positive tweets (31%), and then the negative ones (28%)."
   ]
  },
  {
   "cell_type": "markdown",
   "id": "interpreted-obligation",
   "metadata": {},
   "source": [
    "## Missing values treatment in the dataset"
   ]
  },
  {
   "cell_type": "code",
   "execution_count": 9,
   "id": "dynamic-jacket",
   "metadata": {},
   "outputs": [
    {
     "data": {
      "text/plain": [
       "textID           0\n",
       "text             1\n",
       "selected_text    1\n",
       "sentiment        0\n",
       "dtype: int64"
      ]
     },
     "execution_count": 9,
     "metadata": {},
     "output_type": "execute_result"
    }
   ],
   "source": [
    "#Missing values in training set\n",
    "df.isnull().sum()"
   ]
  },
  {
   "cell_type": "markdown",
   "id": "internal-testament",
   "metadata": {},
   "source": [
    "The text and selected_text column have each one one row missing . Let's get rid of the missing rows."
   ]
  },
  {
   "cell_type": "code",
   "execution_count": 10,
   "id": "civil-understanding",
   "metadata": {},
   "outputs": [],
   "source": [
    "# Dropping missing values\n",
    "df.dropna(axis = 0, how ='any',inplace=True) ;"
   ]
  },
  {
   "cell_type": "markdown",
   "id": "foster-banner",
   "metadata": {},
   "source": [
    "# Text preprocessing"
   ]
  },
  {
   "cell_type": "markdown",
   "id": "joined-rolling",
   "metadata": {},
   "source": [
    "Before we dive into extracting information out of words in text and selected text, let's first clean the data."
   ]
  },
  {
   "cell_type": "markdown",
   "id": "infinite-newport",
   "metadata": {},
   "source": [
    "Preprocessing text is about :\n",
    "- converting all letters to lower case\n",
    "- removing numbers\n",
    "- removing punctuations, accent marks and other useless characters\n",
    "- removing extra spaces\n",
    "- removing stop words, sparse terms, and particular words\n",
    "\n",
    "Be careful : theses steps can be modified according the the dataset, languages and the project itself."
   ]
  },
  {
   "cell_type": "code",
   "execution_count": 11,
   "id": "cheap-polish",
   "metadata": {},
   "outputs": [],
   "source": [
    "def clean_text(text):\n",
    "    '''Make text lowercase, remove text in square brackets,remove links,remove punctuation\n",
    "    and remove words containing numbers.'''\n",
    "    text = str(text).lower()\n",
    "    text = re.sub('\\[.*?\\]', '', text)\n",
    "    text = re.sub('https?://\\S+|www\\.\\S+', '', text)\n",
    "    text = re.sub('<.*?>+', '', text)\n",
    "    text = re.sub('[%s]' % re.escape(string.punctuation), '', text)\n",
    "    text = re.sub('\\n', '', text)\n",
    "    text = re.sub('\\w*\\d\\w*', '', text)\n",
    "    return text"
   ]
  },
  {
   "cell_type": "code",
   "execution_count": 12,
   "id": "played-printing",
   "metadata": {},
   "outputs": [],
   "source": [
    "df['text'] = df['text'].apply(lambda x:clean_text(x))\n",
    "df['selected_text'] = df['selected_text'].apply(lambda x:clean_text(x))"
   ]
  },
  {
   "cell_type": "code",
   "execution_count": 13,
   "id": "executed-reverse",
   "metadata": {},
   "outputs": [
    {
     "data": {
      "text/html": [
       "<div>\n",
       "<style scoped>\n",
       "    .dataframe tbody tr th:only-of-type {\n",
       "        vertical-align: middle;\n",
       "    }\n",
       "\n",
       "    .dataframe tbody tr th {\n",
       "        vertical-align: top;\n",
       "    }\n",
       "\n",
       "    .dataframe thead th {\n",
       "        text-align: right;\n",
       "    }\n",
       "</style>\n",
       "<table border=\"1\" class=\"dataframe\">\n",
       "  <thead>\n",
       "    <tr style=\"text-align: right;\">\n",
       "      <th></th>\n",
       "      <th>textID</th>\n",
       "      <th>text</th>\n",
       "      <th>selected_text</th>\n",
       "      <th>sentiment</th>\n",
       "    </tr>\n",
       "  </thead>\n",
       "  <tbody>\n",
       "    <tr>\n",
       "      <th>0</th>\n",
       "      <td>cb774db0d1</td>\n",
       "      <td>id have responded if i were going</td>\n",
       "      <td>id have responded if i were going</td>\n",
       "      <td>neutral</td>\n",
       "    </tr>\n",
       "    <tr>\n",
       "      <th>1</th>\n",
       "      <td>549e992a42</td>\n",
       "      <td>sooo sad i will miss you here in san diego</td>\n",
       "      <td>sooo sad</td>\n",
       "      <td>negative</td>\n",
       "    </tr>\n",
       "    <tr>\n",
       "      <th>2</th>\n",
       "      <td>088c60f138</td>\n",
       "      <td>my boss is bullying me</td>\n",
       "      <td>bullying me</td>\n",
       "      <td>negative</td>\n",
       "    </tr>\n",
       "    <tr>\n",
       "      <th>3</th>\n",
       "      <td>9642c003ef</td>\n",
       "      <td>what interview leave me alone</td>\n",
       "      <td>leave me alone</td>\n",
       "      <td>negative</td>\n",
       "    </tr>\n",
       "    <tr>\n",
       "      <th>4</th>\n",
       "      <td>358bd9e861</td>\n",
       "      <td>sons of  why couldnt they put them on the rel...</td>\n",
       "      <td>sons of</td>\n",
       "      <td>negative</td>\n",
       "    </tr>\n",
       "  </tbody>\n",
       "</table>\n",
       "</div>"
      ],
      "text/plain": [
       "       textID                                               text  \\\n",
       "0  cb774db0d1                  id have responded if i were going   \n",
       "1  549e992a42         sooo sad i will miss you here in san diego   \n",
       "2  088c60f138                             my boss is bullying me   \n",
       "3  9642c003ef                      what interview leave me alone   \n",
       "4  358bd9e861   sons of  why couldnt they put them on the rel...   \n",
       "\n",
       "                       selected_text sentiment  \n",
       "0  id have responded if i were going   neutral  \n",
       "1                           sooo sad  negative  \n",
       "2                        bullying me  negative  \n",
       "3                     leave me alone  negative  \n",
       "4                           sons of   negative  "
      ]
     },
     "execution_count": 13,
     "metadata": {},
     "output_type": "execute_result"
    }
   ],
   "source": [
    "df.head()"
   ]
  },
  {
   "cell_type": "markdown",
   "id": "fluid-ethics",
   "metadata": {},
   "source": [
    "# Build, train and evaluate models"
   ]
  },
  {
   "cell_type": "markdown",
   "id": "editorial-prime",
   "metadata": {},
   "source": [
    "We focus our attention in this part to Machine Learning NLP models to classify the tweets. "
   ]
  },
  {
   "cell_type": "markdown",
   "id": "tutorial-herald",
   "metadata": {},
   "source": [
    "The first step towards training a supervised machine learning NLP classifier is feature extraction. Indeed, we first have to transform each 'text' into a numerical representation in the form of a vector. One of the most frequently used approaches is to compute the frequency of a word in a predefined dictionary of words. For this purpose, we can explore vector representations such as Count_vectorizer or TF-IDF weighted vectors.\n",
    "Having this vector representations of the text we can then train supervised classifiers. To this end, many different algorithms are available. In this project, we focus our attention to Naive Bayes method and Support Vector Machines (SVM)."
   ]
  },
  {
   "cell_type": "markdown",
   "id": "working-study",
   "metadata": {},
   "source": [
    "First of all, let's split the dataset into two seperate part one for training and the second for evaluation."
   ]
  },
  {
   "cell_type": "code",
   "execution_count": 14,
   "id": "ultimate-movie",
   "metadata": {},
   "outputs": [],
   "source": [
    "# Split dataset into train and test sets\n",
    "X_train, X_test, Y_train, Y_test, indices_train, indices_test = train_test_split(\n",
    "    df['text'], df['sentiment'], df.index, test_size=0.25, random_state=3, stratify=df['sentiment'])"
   ]
  },
  {
   "cell_type": "markdown",
   "id": "developing-merchandise",
   "metadata": {},
   "source": [
    "## Naive Bayes and Count_vectorizer\n"
   ]
  },
  {
   "cell_type": "markdown",
   "id": "genetic-bottle",
   "metadata": {},
   "source": [
    "### Count_vectorizer"
   ]
  },
  {
   "cell_type": "markdown",
   "id": "saved-diary",
   "metadata": {},
   "source": [
    "Text files are actually series of words. In order to run machine learning algorithms we need to convert the text files into numerical feature vectors. To this end, we use bag of words model. Briefly, we segment each text file into words (splitting by space), and count # of times each word occurs in each document and finally assign to each word an integer."
   ]
  },
  {
   "cell_type": "code",
   "execution_count": 15,
   "id": "intelligent-vintage",
   "metadata": {},
   "outputs": [],
   "source": [
    "# Initialize count_vectorizer\n",
    "count_vectorizer = CountVectorizer(min_df=5)\n",
    "\n",
    "# create count_train and test variables \n",
    "count_train = count_vectorizer.fit_transform(X_train, Y_train)\n",
    "count_test = count_vectorizer.transform(X_test)"
   ]
  },
  {
   "cell_type": "markdown",
   "id": "advisory-seafood",
   "metadata": {},
   "source": [
    "Here, we set min_df = 5 for removing terms that appear in less than 5 documents."
   ]
  },
  {
   "cell_type": "markdown",
   "id": "moved-composite",
   "metadata": {},
   "source": [
    " ### Naive Bayes classifier : Multinomial Naive Bayes (MNB)"
   ]
  },
  {
   "cell_type": "markdown",
   "id": "cooperative-provincial",
   "metadata": {},
   "source": [
    "The Naive Bayes classifier. It is a well_known machine learning classifier and some of the most popular text classification algorithms. It is a simple 'naïve' classification method based on Bayes rule. It relies on very simple representation of document namely bag of words. Naive Bayes models are a group of extremely fast and simple classification algorithms that are often suitable for very high-dimensional datasets. Despite its simplicity, it is able to achieve high performance on the task of classification. \n",
    "\n",
    "After converting a collection of text documents to a matrix of token counts using CountVectorizer, we will use  the Multinomial Naive Bayes (MNB) which is one of the members of the The Naive Bayes family.\n"
   ]
  },
  {
   "cell_type": "code",
   "execution_count": 16,
   "id": "integral-defense",
   "metadata": {},
   "outputs": [],
   "source": [
    "# create a MultinomialNB model\n",
    "count_nb = MultinomialNB()\n",
    "\n",
    "# train model \n",
    "count_nb.fit(count_train, Y_train)\n",
    "\n",
    "# run predict on your count test data to get your predictions \n",
    "count_nb_pred = count_nb.predict(count_test)"
   ]
  },
  {
   "cell_type": "code",
   "execution_count": 17,
   "id": "choice-spirit",
   "metadata": {},
   "outputs": [
    {
     "name": "stdout",
     "output_type": "stream",
     "text": [
      "65.84%\n",
      "              precision    recall  f1-score   support\n",
      "\n",
      "    negative       0.66      0.61      0.63      1945\n",
      "     neutral       0.61      0.67      0.64      2779\n",
      "    positive       0.73      0.69      0.71      2146\n",
      "\n",
      "    accuracy                           0.66      6870\n",
      "   macro avg       0.67      0.66      0.66      6870\n",
      "weighted avg       0.66      0.66      0.66      6870\n",
      "\n"
     ]
    }
   ],
   "source": [
    "# evaluate the model\n",
    "count_nb_accuracy_score = metrics.accuracy_score(count_nb_pred, Y_test)\n",
    "\n",
    "print(str('{:04.2f}'.format(count_nb_accuracy_score*100))+'%')\n",
    "print(classification_report(Y_test, count_nb_pred))\n"
   ]
  },
  {
   "cell_type": "code",
   "execution_count": 18,
   "id": "front-jurisdiction",
   "metadata": {},
   "outputs": [
    {
     "data": {
      "image/png": "[encoded data removed]",
      "text/plain": [
       "<Figure size 720x720 with 2 Axes>"
      ]
     },
     "metadata": {
      "needs_background": "light"
     },
     "output_type": "display_data"
    }
   ],
   "source": [
    "# Display the confusion matrix \n",
    "count_nb_conf_mat = confusion_matrix(Y_test, count_nb_pred)\n",
    "\n",
    "fig, ax = plt.subplots(figsize=(10,10))\n",
    "sns.heatmap(count_nb_conf_mat, annot=True, fmt='d', xticklabels=df.sentiment.unique(), \n",
    "            yticklabels=df.sentiment.unique())\n",
    "plt.ylabel('Actual')\n",
    "plt.xlabel('Predicted')\n",
    "plt.show()"
   ]
  },
  {
   "cell_type": "markdown",
   "id": "sunrise-crime",
   "metadata": {},
   "source": [
    "## Naive Bayes and Tfidf_Vectorizer"
   ]
  },
  {
   "cell_type": "markdown",
   "id": "developmental-exhaust",
   "metadata": {},
   "source": [
    "### TfidfVectorizer"
   ]
  },
  {
   "cell_type": "markdown",
   "id": "physical-prairie",
   "metadata": {},
   "source": [
    "Just counting the number of words in each document has an issue: it will give more weightage to longer documents than shorter documents.  To avoid this, we can use frequency TF which stands for Term Frequency. It measures how frequently a term occurs in a document i.e. #count(word) / #Total words, in each document. \n",
    "\n",
    "TF(t) = (Number of times term t appears in a document) / (Total number of terms in the document).\n",
    "\n",
    "In an other hand, IDF which stands for Inverse Document Frequency is equal to :\n",
    "\n",
    "IDF(t) = log(Total number of documents / Number of documents with term t in it)\n",
    "\n",
    "We multiply each of these terms TF and IDF to obtain TF-IDF which stands for Term Frequency-Inverse Document Frequency. It is a weight used to avaluate how important a word is to a document in a collection or corpus. We can even reduce the weightage of more common words like (the, is, an etc.) which occurs in all document.\n"
   ]
  },
  {
   "cell_type": "markdown",
   "id": "subtle-proceeding",
   "metadata": {},
   "source": [
    "Example:\n",
    "\n",
    "Consider a document containing 100 words wherein the word dog appears 3 times. The term frequency (TF) for dog is then (3 / 100) = 0.03. Now, assume we have 10 million documents and the word dog appears in one thousand of these. Then, the inverse document frequency (IDF) is calculated as log(10,000,000 / 1,000) = 4. Thus, the Tf-idf weight is the product of these quantities: 0.03 * 4 = 0.12."
   ]
  },
  {
   "cell_type": "markdown",
   "id": "extended-recorder",
   "metadata": {},
   "source": [
    "TfidfVectorizer converts a collection of raw documents to a matrix of TF-IDF features."
   ]
  },
  {
   "cell_type": "code",
   "execution_count": 19,
   "id": "gentle-laser",
   "metadata": {},
   "outputs": [],
   "source": [
    "# initialize tfidf vectorizer \n",
    "tfidf_vectorizer = TfidfVectorizer(min_df=5)\n",
    "\n",
    "# create count_train and test variables \n",
    "tfidf_train = tfidf_vectorizer.fit_transform(X_train, Y_train)\n",
    "tfidf_test = tfidf_vectorizer.transform(X_test)"
   ]
  },
  {
   "cell_type": "markdown",
   "id": "accessible-mongolia",
   "metadata": {},
   "source": [
    "Here, we set min_df = 5 for removing terms that appear in less than 5 documents."
   ]
  },
  {
   "cell_type": "markdown",
   "id": "endangered-racing",
   "metadata": {},
   "source": [
    " ### Naive Bayes classifier : Multinomial Naive Bayes (MNB)"
   ]
  },
  {
   "cell_type": "markdown",
   "id": "respiratory-pharmacy",
   "metadata": {},
   "source": [
    "After converting a collection of text documents to a matrix of token term frequency using TF-IDFtVectorizer, we use the Multinomial Naive Bayes (MNB) like the case of previous section. "
   ]
  },
  {
   "cell_type": "code",
   "execution_count": 20,
   "id": "selected-special",
   "metadata": {},
   "outputs": [],
   "source": [
    "# create a MultinomialNB model\n",
    "tfidf_nb = MultinomialNB()\n",
    "\n",
    "# train model \n",
    "tfidf_nb.fit(tfidf_train, Y_train)\n",
    "\n",
    "# run predict on your count test data to get your predictions \n",
    "tfidf_nb_pred = tfidf_nb.predict(tfidf_test)"
   ]
  },
  {
   "cell_type": "code",
   "execution_count": 21,
   "id": "outside-placement",
   "metadata": {
    "scrolled": true
   },
   "outputs": [
    {
     "name": "stdout",
     "output_type": "stream",
     "text": [
      "64.75%\n",
      "              precision    recall  f1-score   support\n",
      "\n",
      "    negative       0.75      0.48      0.58      1945\n",
      "     neutral       0.56      0.80      0.66      2779\n",
      "    positive       0.77      0.60      0.67      2146\n",
      "\n",
      "    accuracy                           0.65      6870\n",
      "   macro avg       0.69      0.63      0.64      6870\n",
      "weighted avg       0.68      0.65      0.64      6870\n",
      "\n"
     ]
    }
   ],
   "source": [
    "# evaluate the model\n",
    "tfidf_nb_accuracy_score = metrics.accuracy_score(tfidf_nb_pred, Y_test)\n",
    "\n",
    "print(str('{:04.2f}'.format(tfidf_nb_accuracy_score*100))+'%')\n",
    "print(classification_report(Y_test, tfidf_nb_pred))\n"
   ]
  },
  {
   "cell_type": "code",
   "execution_count": 22,
   "id": "turned-malta",
   "metadata": {},
   "outputs": [
    {
     "data": {
      "image/png": "[encoded data removed]",
      "text/plain": [
       "<Figure size 720x720 with 2 Axes>"
      ]
     },
     "metadata": {
      "needs_background": "light"
     },
     "output_type": "display_data"
    }
   ],
   "source": [
    "# Display the confusion matrix \n",
    "tfidf_nb_conf_mat = confusion_matrix(Y_test, tfidf_nb_pred)\n",
    "\n",
    "fig, ax = plt.subplots(figsize=(10,10))\n",
    "sns.heatmap(tfidf_nb_conf_mat, annot=True, fmt='d', xticklabels=df.sentiment.unique(), \n",
    "            yticklabels=df.sentiment.unique())\n",
    "plt.ylabel('Actual')\n",
    "plt.xlabel('Predicted')\n",
    "plt.show()"
   ]
  },
  {
   "cell_type": "markdown",
   "id": "everyday-karaoke",
   "metadata": {},
   "source": [
    "## LinearSVC and Tfidf_Vectorizer\n",
    "\n",
    "A second category of machine learning NLP classifier is Support Vector Machines (SVM). SVM are supervised machine learning methods generally used for classification. SVMs are very efficient in high dimensional spaces. \n",
    "The main goal of SVMs is to divide the datasets into number of classes in order to find a maximum marginal hyperplane (MMH).\n",
    "\n",
    "In order to improve the results of last sections, we will use LinearSVC which is one of the members of the the SVM family. \n",
    "LinearSVC stands for Linear Support Vector Classification. The aim of a Linear SVC is to fit the data, returning a \"best fit\" hyperplane that divides, or categorizes, your data. It performs well with a large number of samples."
   ]
  },
  {
   "cell_type": "code",
   "execution_count": 23,
   "id": "controversial-nitrogen",
   "metadata": {},
   "outputs": [],
   "source": [
    "# create a LinearSVC model\n",
    "tfidf_svc = LinearSVC(random_state=6)\n",
    "\n",
    "# train model \n",
    "tfidf_svc.fit(tfidf_train, Y_train)\n",
    "\n",
    "# run predict on your count test data to get your predictions \n",
    "tfidf_svc_pred = tfidf_svc.predict(tfidf_test)"
   ]
  },
  {
   "cell_type": "code",
   "execution_count": 24,
   "id": "statutory-surrey",
   "metadata": {
    "scrolled": true
   },
   "outputs": [
    {
     "name": "stdout",
     "output_type": "stream",
     "text": [
      "68.49%\n",
      "              precision    recall  f1-score   support\n",
      "\n",
      "    negative       0.68      0.62      0.65      1945\n",
      "     neutral       0.64      0.70      0.67      2779\n",
      "    positive       0.75      0.72      0.73      2146\n",
      "\n",
      "    accuracy                           0.68      6870\n",
      "   macro avg       0.69      0.68      0.69      6870\n",
      "weighted avg       0.69      0.68      0.68      6870\n",
      "\n"
     ]
    }
   ],
   "source": [
    "# evaluate the model\n",
    "tfidf_svc_accuracy_score = metrics.accuracy_score(tfidf_svc_pred, Y_test)\n",
    "\n",
    "print(str('{:04.2f}'.format(tfidf_svc_accuracy_score*100))+'%')\n",
    "print(classification_report(Y_test, tfidf_svc_pred))"
   ]
  },
  {
   "cell_type": "code",
   "execution_count": 25,
   "id": "governing-notion",
   "metadata": {},
   "outputs": [
    {
     "data": {
      "image/png": "[encoded data removed]",
      "text/plain": [
       "<Figure size 720x720 with 2 Axes>"
      ]
     },
     "metadata": {
      "needs_background": "light"
     },
     "output_type": "display_data"
    }
   ],
   "source": [
    "# Display the confusion matrix \n",
    "tfidf_svc_conf_mat = confusion_matrix(Y_test, tfidf_svc_pred)\n",
    "\n",
    "fig, ax = plt.subplots(figsize=(10,10))\n",
    "sns.heatmap(tfidf_svc_conf_mat, annot=True, fmt='d', xticklabels=df.sentiment.unique(), \n",
    "            yticklabels=df.sentiment.unique())\n",
    "plt.ylabel('Actual')\n",
    "plt.xlabel('Predicted')\n",
    "plt.show()"
   ]
  },
  {
   "cell_type": "markdown",
   "id": "elementary-philip",
   "metadata": {},
   "source": [
    "# Conclusion\n",
    "The sentiment analysis is one of the most commonly performed NLP tasks .\n",
    "\n",
    "In this notebook, to perform sentiment analysis, we have been focusing on two categories of Machine Learning Classifier namely the Multinomial Naive Bayes algorithm and Linear SVC. We remark that LinearSVC outperforms the MultinomialNB with a gain of about 4%. One can consider other machine learning models like Random Forest, Logistic Regression genralized to multiple classes, KNeighbors or Decision Tree. "
   ]
  },
  {
   "cell_type": "code",
   "execution_count": null,
   "id": "latter-section",
   "metadata": {},
   "outputs": [],
   "source": []
  }
 ],
 "metadata": {
  "kernelspec": {
   "display_name": "Python 3",
   "language": "python",
   "name": "python3"
  },
  "language_info": {
   "codemirror_mode": {
    "name": "ipython",
    "version": 3
   },
   "file_extension": ".py",
   "mimetype": "text/x-python",
   "name": "python",
   "nbconvert_exporter": "python",
   "pygments_lexer": "ipython3",
   "version": "3.6.9"
  }
 },
 "nbformat": 4,
 "nbformat_minor": 5
}
